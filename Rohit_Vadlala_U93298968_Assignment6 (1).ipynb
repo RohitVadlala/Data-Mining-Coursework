{
 "cells": [
  {
   "cell_type": "markdown",
   "id": "6bc6056d-f112-471f-9e5a-6fd5c8bcb304",
   "metadata": {
    "tags": []
   },
   "source": [
    "### Week 06\n",
    "### Natural gas prices \n",
    "### https://datahub.io/core/natural-gas#resource-monthly\n",
    "### Dataset contains Monthly prices of Natural gas, starting from January 1997 to current year. Prices are in nominal dollars. Time series of major Natural Gas Prices including US Henry Hub. Data comes from U.S. Energy Information Administration EIA Data Dataset contains Monthly prices of Natural gas, starting from January 1997 to current year. "
   ]
  },
  {
   "cell_type": "markdown",
   "id": "1f05a317-aef4-4675-9bfb-a60443424d30",
   "metadata": {},
   "source": [
    "### In this dataset the  feature column is Month and the target column is Price"
   ]
  },
  {
   "cell_type": "code",
   "execution_count": 95,
   "id": "56952b5f-8856-42a1-ae98-3d4526bb2bd8",
   "metadata": {
    "tags": []
   },
   "outputs": [],
   "source": [
    "# Import necessary libraries\n",
    "import pandas as pd\n",
    "import numpy as np\n",
    "from sklearn.model_selection import train_test_split\n",
    "from sklearn.preprocessing import StandardScaler\n",
    "from sklearn.linear_model import LogisticRegression\n",
    "from sklearn.svm import SVC\n",
    "from sklearn.tree import DecisionTreeClassifier\n",
    "from sklearn.metrics import classification_report, f1_score, accuracy_score, recall_score, precision_score, roc_auc_score, confusion_matrix, r2_score, ConfusionMatrixDisplay\n",
    "from sklearn.utils import resample\n",
    "from sklearn.model_selection import GridSearchCV\n",
    "from sklearn.model_selection import RandomizedSearchCV\n",
    "from sklearn.neighbors import KNeighborsRegressor\n",
    "from sklearn.metrics import mean_squared_error\n",
    "\n"
   ]
  },
  {
   "cell_type": "code",
   "execution_count": 96,
   "id": "45a31abc",
   "metadata": {
    "tags": []
   },
   "outputs": [],
   "source": [
    "# Load the dataset\n",
    "Dataset = pd.read_csv(r'rr.csv')"
   ]
  },
  {
   "cell_type": "markdown",
   "id": "35798107-4efc-4e77-ab8e-7d3b3c7c691f",
   "metadata": {},
   "source": [
    "### From the above, I have taken Dataset as the variable and imported the data from the csv file through pd.read_csv command "
   ]
  },
  {
   "cell_type": "markdown",
   "id": "d36905b1-98df-4c80-b8a6-450fdde4e40e",
   "metadata": {},
   "source": [
    "### Train and Test Sets"
   ]
  },
  {
   "cell_type": "markdown",
   "id": "9651f93f-8b75-4cf2-a89c-b6ddabf43951",
   "metadata": {},
   "source": [
    "### A method for assessing a machine learning algorithm's performance is the train-test split. It may be applied to issues involving classification or regression as well as any supervised learning technique.The process entails splitting the dataset into two subgroups. The training dataset is the initial subset, which is used to fit the model. The model is not trained using the second subset; rather, it is given the input element of the dataset, and its predictions are then produced and contrasted with the expected values. The test dataset is the second dataset in question.\n",
    "### Train data set: The machine learning model is fitted using the train dataset.\n",
    "### Test data set: Used to assess how well a machine learning model fits the data."
   ]
  },
  {
   "cell_type": "code",
   "execution_count": 98,
   "id": "f0e6e8a0-c57c-4d53-b88c-d08534b5ad82",
   "metadata": {
    "tags": []
   },
   "outputs": [
    {
     "data": {
      "text/plain": [
       "122    0\n",
       "82     0\n",
       "97     0\n",
       "99     1\n",
       "67     1\n",
       "21     0\n",
       "174    0\n",
       "163    0\n",
       "169    0\n",
       "210    0\n",
       "25     0\n",
       "137    1\n",
       "255    1\n",
       "179    0\n",
       "103    1\n",
       "237    0\n",
       "128    0\n",
       "109    0\n",
       "282    1\n",
       "86     1\n",
       "250    1\n",
       "170    0\n",
       "223    0\n",
       "35     0\n",
       "89     0\n",
       "246    0\n",
       "176    0\n",
       "266    1\n",
       "9      1\n",
       "108    0\n",
       "40     1\n",
       "256    0\n",
       "26     1\n",
       "211    0\n",
       "64     1\n",
       "232    0\n",
       "267    0\n",
       "123    1\n",
       "32     0\n",
       "19     0\n",
       "16     0\n",
       "209    1\n",
       "203    1\n",
       "90     0\n",
       "136    1\n",
       "34     0\n",
       "17     1\n",
       "74     0\n",
       "120    0\n",
       "245    0\n",
       "202    0\n",
       "152    0\n",
       "217    0\n",
       "195    1\n",
       "38     1\n",
       "125    0\n",
       "83     1\n",
       "Name: Price_inc, dtype: int32"
      ]
     },
     "execution_count": 98,
     "metadata": {},
     "output_type": "execute_result"
    }
   ],
   "source": [
    "# Split the resampled data into train and test sets\n",
    "X_train, X_test, y_train, y_test = train_test_split(X, y, test_size=0.2, random_state=50)\n",
    "X_train\n",
    "X_test\n",
    "y_train\n",
    "y_test"
   ]
  },
  {
   "cell_type": "markdown",
   "id": "aa1e49ec-2129-4a76-bd15-49fcb3b38372",
   "metadata": {},
   "source": [
    "### Applying Logistic Regression Model"
   ]
  },
  {
   "cell_type": "markdown",
   "id": "ada2ce1c-4a42-48a1-a78a-90a71bf8ecfc",
   "metadata": {},
   "source": [
    "### Logistic Regression: It is also referred as a predictive analytics and categorization frequently make use of this kind of statistical model, commonly referred to as a logit model. Based on a given dataset of independent variables, logistic regression calculates the likelihood of the event occurence. Given that the result is a probability, the dependent variable's range is 0 to 1. "
   ]
  },
  {
   "cell_type": "markdown",
   "id": "34e21a09-a1e1-43df-b415-cdba1e2f32b4",
   "metadata": {},
   "source": [
    "### Below, I have converted the data type of the month from object type to date time in order to perform logistic regression(as it will not allow object data type). As logistic regression works on the discrete type of data.. i have pulled up the price data as it is continuous from the csv file, and aimed to create a proce difference in a way it is compatible to perform logistic regression. "
   ]
  },
  {
   "cell_type": "code",
   "execution_count": 99,
   "id": "03a69388",
   "metadata": {
    "tags": []
   },
   "outputs": [
    {
     "name": "stdout",
     "output_type": "stream",
     "text": [
      "Logistic Regression Accuracy: 49.12%\n",
      "Confusion Matrix- Logistic Regression:\n",
      "[[24 13]\n",
      " [16  4]]\n",
      "Classification Report- Logistic Regression:\n",
      "              precision    recall  f1-score   support\n",
      "\n",
      "           0       0.60      0.65      0.62        37\n",
      "           1       0.24      0.20      0.22        20\n",
      "\n",
      "    accuracy                           0.49        57\n",
      "   macro avg       0.42      0.42      0.42        57\n",
      "weighted avg       0.47      0.49      0.48        57\n",
      "\n"
     ]
    }
   ],
   "source": [
    "# Logistic Regression\n",
    "\n",
    "Dataset = pd.read_csv(r'C:/Users/vadla/Downloads/monthly_csv.csv')\n",
    "\n",
    "df = pd.DataFrame(Dataset)\n",
    "\n",
    "# Convert 'Month' to datetime and extract the month number\n",
    "df['Month'] = pd.to_datetime(df['Month'])\n",
    "df['Month_dt'] = df['Month'].dt.month\n",
    "\n",
    "# Calculate the binary outcome based on price increase or decrease\n",
    "df['Price_dif'] = df['Price'].diff()\n",
    "df['Price_inc'] = (df['Price_dif'] > 0).astype(int)\n",
    "df.dropna(inplace=True)  # drop the first row since it doesn't have a previous month to compare to\n",
    "\n",
    "# Splitting data into training and testing set\n",
    "X = df[['Month_dt']]\n",
    "y = df['Price_inc']\n",
    "\n",
    "X_train, X_test, y_train, y_test = train_test_split(X, y, test_size=0.2, random_state=42)\n",
    "\n",
    "# Fitting a Logistic regression model\n",
    "logreg_model = LogisticRegression()\n",
    "logreg_model.fit(X_train, y_train)\n",
    "y_pred = logreg_model.predict(X_test)\n",
    "\n",
    "accuracy_lr = accuracy_score(y_test, y_pred)\n",
    "confusionmatrix_logreg = confusion_matrix(y_test, y_pred)\n",
    "classificationreport_logreg = classification_report(y_test, y_pred)\n",
    "\n",
    "print(f\"Logistic Regression Accuracy: {accuracy_lr*100:.2f}%\")\n",
    "print(f'Confusion Matrix- Logistic Regression:\\n{confusionmatrix_logreg}')\n",
    "print(f'Classification Report- Logistic Regression:\\n{classificationreport_logreg}')\n",
    "\n"
   ]
  },
  {
   "cell_type": "markdown",
   "id": "0d3325c1-dccf-4ad2-903e-422552222b92",
   "metadata": {},
   "source": [
    "### Logistic Regression Accuracy: 49.12%\n",
    "### Values for Logistic Regeression Model:\n",
    "### True Positive: 4\n",
    "### False Negative: 16\n",
    "### True Negative: 24\n",
    "### False Positive: 13"
   ]
  },
  {
   "cell_type": "markdown",
   "id": "e6d5bf38-071a-42a6-bb32-dc496d80cd14",
   "metadata": {},
   "source": [
    "### Applying Decision Tree Model"
   ]
  },
  {
   "cell_type": "markdown",
   "id": "f464a308-7714-4773-aeea-205c22f7863f",
   "metadata": {},
   "source": [
    "### Decision tree model is applied in order to classify and perfrom regression tasks. In this model it is based mainly on inquiring a sequence of questions are used by the decision tree to generate decisions."
   ]
  },
  {
   "cell_type": "markdown",
   "id": "d2a27808-9915-4441-9bb3-a4e3ea056ad0",
   "metadata": {},
   "source": [
    "### Here, I have initialized and trained the data for the application decision tree model and evaluated the model's performance with the scores of accuracy, confusion matrix and classification matrix."
   ]
  },
  {
   "cell_type": "code",
   "execution_count": 100,
   "id": "9fe446f0-184e-41bf-a0b0-0e8faef5e5fd",
   "metadata": {
    "tags": []
   },
   "outputs": [
    {
     "name": "stdout",
     "output_type": "stream",
     "text": [
      "Decision Tree Model Accuracy: \n",
      "56.14%\n",
      "Classification Report- decision tree model:\n",
      "              precision    recall  f1-score   support\n",
      "\n",
      "           0       0.64      0.76      0.69        37\n",
      "           1       0.31      0.20      0.24        20\n",
      "\n",
      "    accuracy                           0.56        57\n",
      "   macro avg       0.47      0.48      0.47        57\n",
      "weighted avg       0.52      0.56      0.53        57\n",
      "\n",
      "Confusion Matrix- decision tree model:\n",
      "[[28  9]\n",
      " [16  4]]\n"
     ]
    }
   ],
   "source": [
    "# Initializing and training the Decision Tree model\n",
    "clf_dectree = DecisionTreeClassifier(random_state=50)\n",
    "clf_dectree.fit(X_train, y_train)\n",
    "\n",
    "# Evaluating the model's performance\n",
    "predictedmodel_values = clf_dectree.predict(X_test)\n",
    "\n",
    "# Calculate accuracy\n",
    "accuracy_dectree = accuracy_score(y_test, predictedmodel_values)\n",
    "\n",
    "# Calculate confusion matrix\n",
    "confusionmatrix_dectree = confusion_matrix(y_test, predictedmodel_values)\n",
    "\n",
    "# Calculate classification report\n",
    "classificationreport_dectree = classification_report(y_test, predictedmodel_values)\n",
    "\n",
    "# Print the results\n",
    "print(f'Decision Tree Model Accuracy: \\n{accuracy_dectree*100:.2f}%')\n",
    "print(f'Classification Report- decision tree model:\\n{classificationreport_dectree}')\n",
    "print(f'Confusion Matrix- decision tree model:\\n{confusionmatrix_dectree}')\n"
   ]
  },
  {
   "cell_type": "markdown",
   "id": "4828c40f-ceb2-4e5f-a983-401bafec974f",
   "metadata": {},
   "source": [
    "### Decision Tree Model Accuracy: 56.14%\n",
    "### Values for Decision Tree Model:\n",
    "### True Positive: 4 \n",
    "### False Positive: 9\n",
    "### True Negative: 28\n",
    "### False Negative: 16"
   ]
  },
  {
   "cell_type": "markdown",
   "id": "752399e2-00db-45f6-a457-ee7f0fd9dcc2",
   "metadata": {},
   "source": [
    "### Applying SVC Model"
   ]
  },
  {
   "cell_type": "markdown",
   "id": "d1990bec-9166-43d5-9f51-fc52aa26e882",
   "metadata": {},
   "source": [
    "### The SVM can be defined as the Support Vector Machine, it is used to apply to classify tasks which can be defined as Support Vector Classification (SVC). THe comination of supervised learning techniques (SVM) will be applied in order to identify the regression, classification and outliers."
   ]
  },
  {
   "cell_type": "markdown",
   "id": "9280e2f9-792c-4a41-b073-9c00d5afc194",
   "metadata": {},
   "source": [
    "### Here, I have applied SVC with linear kernel and trained the model to predict the values in a way to calculate the scores of the accuracy, confusion matrix and classification report."
   ]
  },
  {
   "cell_type": "code",
   "execution_count": 101,
   "id": "35d6a57f-ec07-479f-8355-ac7ea02957f1",
   "metadata": {
    "tags": []
   },
   "outputs": [],
   "source": [
    "# Initialize the model with a linear kernel\n",
    "clf_linear = SVC(kernel='linear')\n",
    "# Train the model\n",
    "clf_linear.fit(X_train, y_train)\n",
    "# Make predictions\n",
    "y_pred_linear = clf_linear.predict(X_test)"
   ]
  },
  {
   "cell_type": "code",
   "execution_count": 102,
   "id": "fef59901-916d-4ec0-9387-0cf792a22a0c",
   "metadata": {
    "tags": []
   },
   "outputs": [
    {
     "name": "stdout",
     "output_type": "stream",
     "text": [
      "Linear Kernel:(Classification Report)- \n",
      "              precision    recall  f1-score   support\n",
      "\n",
      "           0       0.65      1.00      0.79        37\n",
      "           1       0.00      0.00      0.00        20\n",
      "\n",
      "    accuracy                           0.65        57\n",
      "   macro avg       0.32      0.50      0.39        57\n",
      "weighted avg       0.42      0.65      0.51        57\n",
      "\n",
      "Linear Kernel:(Accuracy)- \n",
      "64.91%\n",
      "Linear Kernel:(Confusion Matrix)- \n",
      "[[37  0]\n",
      " [20  0]]\n"
     ]
    },
    {
     "name": "stderr",
     "output_type": "stream",
     "text": [
      "C:\\Users\\vadla\\anaconda3\\Lib\\site-packages\\sklearn\\metrics\\_classification.py:1469: UndefinedMetricWarning: Precision and F-score are ill-defined and being set to 0.0 in labels with no predicted samples. Use `zero_division` parameter to control this behavior.\n",
      "  _warn_prf(average, modifier, msg_start, len(result))\n",
      "C:\\Users\\vadla\\anaconda3\\Lib\\site-packages\\sklearn\\metrics\\_classification.py:1469: UndefinedMetricWarning: Precision and F-score are ill-defined and being set to 0.0 in labels with no predicted samples. Use `zero_division` parameter to control this behavior.\n",
      "  _warn_prf(average, modifier, msg_start, len(result))\n",
      "C:\\Users\\vadla\\anaconda3\\Lib\\site-packages\\sklearn\\metrics\\_classification.py:1469: UndefinedMetricWarning: Precision and F-score are ill-defined and being set to 0.0 in labels with no predicted samples. Use `zero_division` parameter to control this behavior.\n",
      "  _warn_prf(average, modifier, msg_start, len(result))\n"
     ]
    }
   ],
   "source": [
    "# Accuracy\n",
    "accuracy_linear = accuracy_score(y_test, y_pred_linear)\n",
    "\n",
    "# Confusion Matrix\n",
    "confusionmatrix_linear = confusion_matrix(y_test, y_pred_linear)\n",
    "\n",
    "# Classification Report\n",
    "classificationreport_linear = classification_report(y_test, y_pred_linear)\n",
    "\n",
    "print(f'Linear Kernel:(Classification Report)- \\n{classificationreport_linear}')\n",
    "print(f'Linear Kernel:(Accuracy)- \\n{accuracy_linear*100:.2f}%')\n",
    "print(f'Linear Kernel:(Confusion Matrix)- \\n{confusionmatrix_linear}')"
   ]
  },
  {
   "cell_type": "markdown",
   "id": "5898d4b3-cbed-4e8c-9983-875d06a49360",
   "metadata": {},
   "source": [
    "### Values for SVC Model:\n",
    "### SVC Linear Kernel Accuracy: 64.91% \n",
    "### True Positive: 0\n",
    "### False Negative: 20\n",
    "### True Negative: 37\n",
    "### False Positive: 0"
   ]
  },
  {
   "cell_type": "markdown",
   "id": "a34466b0-d0d0-4182-91ad-62d5d8c7f744",
   "metadata": {},
   "source": [
    "### Inferences:\n",
    "### To conclude, out of the three models, the accuracy value of SVC Model is 64.91% which is highest among the three models. It is preffered model to identify the patterns of changes in the natural gas prices on the monthly basis"
   ]
  },
  {
   "cell_type": "code",
   "execution_count": null,
   "id": "034075d1-8141-4e7d-86d3-5b618434dc61",
   "metadata": {},
   "outputs": [],
   "source": []
  }
 ],
 "metadata": {
  "kernelspec": {
   "display_name": "Python 3 (ipykernel)",
   "language": "python",
   "name": "python3"
  },
  "language_info": {
   "codemirror_mode": {
    "name": "ipython",
    "version": 3
   },
   "file_extension": ".py",
   "mimetype": "text/x-python",
   "name": "python",
   "nbconvert_exporter": "python",
   "pygments_lexer": "ipython3",
   "version": "3.11.4"
  }
 },
 "nbformat": 4,
 "nbformat_minor": 5
}
