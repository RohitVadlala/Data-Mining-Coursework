{
 "cells": [
  {
   "cell_type": "markdown",
   "id": "bc40dc28",
   "metadata": {},
   "source": [
    "### Data Generator"
   ]
  },
  {
   "cell_type": "markdown",
   "id": "72d59d9c",
   "metadata": {},
   "source": [
    "# Creating a Robust Test Data Set for Evaluating Classification Models: A Multi-Class Scenario with Missing Values\n",
    "In this notebook we will create synthetic data to be used by another notebook where we will build number of models and fit the syntesized data."
   ]
  },
  {
   "cell_type": "markdown",
   "id": "17259b2d",
   "metadata": {},
   "source": [
    "## Introduction\n",
    "\n",
    "In the world of machine learning, the efficacy of classification models heavily relies on the quality and diversity of the data they are trained on. To ensure the robustness of these models, it's essential to subject them to rigorous testing against datasets that closely resemble real-world scenarios. This testing often requires the creation of synthetic datasets that emulate the complexities and challenges data scientists encounter in their day-to-day work.\n",
    "\n",
    "We will focus on the process of synthesizing a data set specifically tailored for testing a classification model. Our objective is to design a dataset with a minimum of five input variables and a multi-class target variable, all while introducing a realistic element: missing values. Missing data is a common problem in real-world datasets, and understanding how your model handles it is crucial for producing reliable results.\n",
    "\n"
   ]
  },
  {
   "cell_type": "markdown",
   "id": "a6560cb1",
   "metadata": {},
   "source": [
    "# Step 1 : Importing necessary packages"
   ]
  },
  {
   "cell_type": "code",
   "execution_count": 1,
   "id": "00309500",
   "metadata": {},
   "outputs": [],
   "source": [
    "# import required packages\n",
    "import numpy as np\n",
    "import pandas as pd"
   ]
  },
  {
   "cell_type": "code",
   "execution_count": 2,
   "id": "ff77dd9c",
   "metadata": {},
   "outputs": [],
   "source": [
    "# Set random seed for reproducibility\n",
    "np.random.seed(42)"
   ]
  },
  {
   "cell_type": "markdown",
   "id": "bd2c9afb",
   "metadata": {},
   "source": [
    "# Step 2:  Synthesize input features\n",
    "\n",
    "First let's define our relationship. This is synthetic data that we create to assist in developing our understanding of modeling. Normally, this relationship is hidden from us, and our job is to identify the best model we can."
   ]
  },
  {
   "cell_type": "code",
   "execution_count": 3,
   "id": "6b37380c",
   "metadata": {},
   "outputs": [],
   "source": [
    "# Define the total number of data samples in the dataset.\n",
    "sample_size = 1000\n",
    "\n",
    "# Specify the number of input features for each data point.\n",
    "n_features = 5\n",
    "\n",
    "# Set the number of distinct classes for the target variable.\n",
    "n_classes = 3\n",
    "\n",
    "# Determine the number of missing values to be introduced in the dataset.\n",
    "n_missing_values = 10\n",
    "\n",
    "# Specify the number of input features with missing values (in this case, 2).\n",
    "n_features_with_missing = 2"
   ]
  },
  {
   "cell_type": "markdown",
   "id": "05d0d4fe",
   "metadata": {},
   "source": [
    "simulate random data, let's select randomly from a normal(aka Guassian) distribution. This will give us a set of values that are centered around a mean value, with a standard deviation that we can control. This is a more realistic representation of data that we might encounter in the real world."
   ]
  },
  {
   "cell_type": "code",
   "execution_count": 4,
   "id": "f005fec2",
   "metadata": {},
   "outputs": [],
   "source": [
    "x_mean = 0\n",
    "x_stdev = 15"
   ]
  },
  {
   "cell_type": "code",
   "execution_count": 5,
   "id": "19afa8be",
   "metadata": {},
   "outputs": [],
   "source": [
    "#defining an empty list \n",
    "X = []\n",
    "\n",
    "#using for loop to generate 6 random features\n",
    "for i in range(1, 6):\n",
    "    feature_i = np.round(np.random.normal(x_mean, x_stdev, sample_size), 2)\n",
    "    X.append(feature_i)"
   ]
  },
  {
   "cell_type": "code",
   "execution_count": 6,
   "id": "afa18905",
   "metadata": {},
   "outputs": [],
   "source": [
    "X = np.array(X).T  # Transpose the list of features to have columns as features"
   ]
  },
  {
   "cell_type": "markdown",
   "id": "5b6844c4",
   "metadata": {},
   "source": [
    "# Step 3: Synthesize Target"
   ]
  },
  {
   "cell_type": "code",
   "execution_count": 7,
   "id": "f12b41d4",
   "metadata": {},
   "outputs": [],
   "source": [
    "# Defining target with n_classes\n",
    "y = np.random.randint(0, n_classes, sample_size)"
   ]
  },
  {
   "cell_type": "markdown",
   "id": "252add2e",
   "metadata": {},
   "source": [
    "# Step 4: Add Missing Values"
   ]
  },
  {
   "cell_type": "markdown",
   "id": "49f59ccf",
   "metadata": {},
   "source": [
    "Since we wanted to make it close to the real data, we will add missing values to the synthesized data"
   ]
  },
  {
   "cell_type": "code",
   "execution_count": 8,
   "id": "2a833ed6",
   "metadata": {},
   "outputs": [],
   "source": [
    "# Calculate the number of rows to add missing values to (10% of the total)\n",
    "num_rows_with_missing = int(0.10 * sample_size)"
   ]
  },
  {
   "cell_type": "code",
   "execution_count": 9,
   "id": "ed8597d2",
   "metadata": {},
   "outputs": [],
   "source": [
    "# Add missing values to two random features in a subset of rows\n",
    "missing_feature_indices = np.random.choice(range(n_features), n_features_with_missing, replace=False)\n",
    "rows_with_missing = np.random.choice(range(sample_size), num_rows_with_missing, replace=False)\n",
    "\n",
    "for i in rows_with_missing:\n",
    "    for j in missing_feature_indices:\n",
    "        X[i, j] = np.nan"
   ]
  },
  {
   "cell_type": "markdown",
   "id": "e82a593f",
   "metadata": {},
   "source": [
    "# Step 5: Create a pandas dataframe from the data"
   ]
  },
  {
   "cell_type": "markdown",
   "id": "c022ddd5",
   "metadata": {},
   "source": [
    "Since our goal is to generate data that we can fit with another notebook, let's save this data to a csv. \n",
    "First we will create a dataframe with the data we just simulated. "
   ]
  },
  {
   "cell_type": "code",
   "execution_count": 10,
   "id": "a947ec4a",
   "metadata": {},
   "outputs": [],
   "source": [
    "# creating a pandas dataframe from the data\n",
    "df = pd.DataFrame(X, columns=['feature1', 'feature2', 'feature3', 'feature4', 'feature5'])"
   ]
  },
  {
   "cell_type": "code",
   "execution_count": 11,
   "id": "b1ddb479",
   "metadata": {},
   "outputs": [],
   "source": [
    "# Add the target variable\n",
    "df['Target'] = y"
   ]
  },
  {
   "cell_type": "markdown",
   "id": "8e59743f",
   "metadata": {},
   "source": [
    "let's see how the data is by viewing few rows of dataframe "
   ]
  },
  {
   "cell_type": "code",
   "execution_count": 12,
   "id": "173379b8",
   "metadata": {},
   "outputs": [
    {
     "data": {
      "text/html": [
       "<div>\n",
       "<style scoped>\n",
       "    .dataframe tbody tr th:only-of-type {\n",
       "        vertical-align: middle;\n",
       "    }\n",
       "\n",
       "    .dataframe tbody tr th {\n",
       "        vertical-align: top;\n",
       "    }\n",
       "\n",
       "    .dataframe thead th {\n",
       "        text-align: right;\n",
       "    }\n",
       "</style>\n",
       "<table border=\"1\" class=\"dataframe\">\n",
       "  <thead>\n",
       "    <tr style=\"text-align: right;\">\n",
       "      <th></th>\n",
       "      <th>feature1</th>\n",
       "      <th>feature2</th>\n",
       "      <th>feature3</th>\n",
       "      <th>feature4</th>\n",
       "      <th>feature5</th>\n",
       "      <th>Target</th>\n",
       "    </tr>\n",
       "  </thead>\n",
       "  <tbody>\n",
       "    <tr>\n",
       "      <th>0</th>\n",
       "      <td>7.45</td>\n",
       "      <td>20.99</td>\n",
       "      <td>-10.13</td>\n",
       "      <td>-28.62</td>\n",
       "      <td>-12.95</td>\n",
       "      <td>0</td>\n",
       "    </tr>\n",
       "    <tr>\n",
       "      <th>1</th>\n",
       "      <td>-2.07</td>\n",
       "      <td>13.87</td>\n",
       "      <td>-2.17</td>\n",
       "      <td>-12.91</td>\n",
       "      <td>-0.47</td>\n",
       "      <td>1</td>\n",
       "    </tr>\n",
       "    <tr>\n",
       "      <th>2</th>\n",
       "      <td>9.72</td>\n",
       "      <td>0.89</td>\n",
       "      <td>-11.89</td>\n",
       "      <td>-6.20</td>\n",
       "      <td>0.27</td>\n",
       "      <td>0</td>\n",
       "    </tr>\n",
       "    <tr>\n",
       "      <th>3</th>\n",
       "      <td>22.85</td>\n",
       "      <td>-9.70</td>\n",
       "      <td>-4.62</td>\n",
       "      <td>28.32</td>\n",
       "      <td>7.09</td>\n",
       "      <td>1</td>\n",
       "    </tr>\n",
       "    <tr>\n",
       "      <th>4</th>\n",
       "      <td>-3.51</td>\n",
       "      <td>10.47</td>\n",
       "      <td>-28.40</td>\n",
       "      <td>8.35</td>\n",
       "      <td>-20.50</td>\n",
       "      <td>2</td>\n",
       "    </tr>\n",
       "  </tbody>\n",
       "</table>\n",
       "</div>"
      ],
      "text/plain": [
       "   feature1  feature2  feature3  feature4  feature5  Target\n",
       "0      7.45     20.99    -10.13    -28.62    -12.95       0\n",
       "1     -2.07     13.87     -2.17    -12.91     -0.47       1\n",
       "2      9.72      0.89    -11.89     -6.20      0.27       0\n",
       "3     22.85     -9.70     -4.62     28.32      7.09       1\n",
       "4     -3.51     10.47    -28.40      8.35    -20.50       2"
      ]
     },
     "execution_count": 12,
     "metadata": {},
     "output_type": "execute_result"
    }
   ],
   "source": [
    "df.head()"
   ]
  },
  {
   "cell_type": "markdown",
   "id": "401029f9",
   "metadata": {},
   "source": [
    "# Step 6: Save the data frame content to a csv"
   ]
  },
  {
   "cell_type": "markdown",
   "id": "cd5ac4f0",
   "metadata": {},
   "source": [
    "Lastly, let's save the data we created to a csv file. This saved data will be used in the next notebook."
   ]
  },
  {
   "cell_type": "code",
   "execution_count": 13,
   "id": "5ff203b8",
   "metadata": {},
   "outputs": [],
   "source": [
    "df.to_csv(r'data_divas.csv')"
   ]
  }
 ],
 "metadata": {
  "kernelspec": {
   "display_name": "Python 3 (ipykernel)",
   "language": "python",
   "name": "python3"
  },
  "language_info": {
   "codemirror_mode": {
    "name": "ipython",
    "version": 3
   },
   "file_extension": ".py",
   "mimetype": "text/x-python",
   "name": "python",
   "nbconvert_exporter": "python",
   "pygments_lexer": "ipython3",
   "version": "3.11.4"
  }
 },
 "nbformat": 4,
 "nbformat_minor": 5
}
