{
 "cells": [
  {
   "cell_type": "markdown",
   "id": "38753927-5bcc-40b5-bb6e-3b353f0ea173",
   "metadata": {},
   "source": [
    "### Week 06_Preprocessing\n",
    "### Natural gas prices \n",
    "### https://datahub.io/core/natural-gas#resource-monthly\n",
    "### Dataset contains Monthly prices of Natural gas, starting from January 1997 to current year. Prices are in nominal dollars. Time series of major Natural Gas Prices including US Henry Hub. Data comes from U.S. Energy Information Administration EIA Data Dataset contains Monthly prices of Natural gas, starting from January 1997 to current year. "
   ]
  },
  {
   "cell_type": "markdown",
   "id": "994d3b11-d1f1-426a-9f59-b1c268c31ae7",
   "metadata": {},
   "source": [
    "### In this dataset the  feature column is Month and the target column is Price"
   ]
  },
  {
   "cell_type": "code",
   "execution_count": 19,
   "id": "1d82ccdd-7565-47ba-8345-7673e0acda29",
   "metadata": {
    "tags": []
   },
   "outputs": [],
   "source": [
    "# Import necessary libraries\n",
    "import pandas as pd\n",
    "import numpy as np\n",
    "from sklearn.model_selection import train_test_split\n",
    "from sklearn.preprocessing import StandardScaler\n",
    "from sklearn.linear_model import LogisticRegression\n",
    "from sklearn.svm import SVC\n",
    "from sklearn.tree import DecisionTreeClassifier\n",
    "from sklearn.metrics import classification_report, f1_score, accuracy_score, recall_score, precision_score, roc_auc_score, confusion_matrix, r2_score, ConfusionMatrixDisplay\n",
    "from sklearn.utils import resample\n",
    "from sklearn.model_selection import GridSearchCV\n",
    "from sklearn.model_selection import RandomizedSearchCV\n",
    "from sklearn.neighbors import KNeighborsRegressor\n",
    "from sklearn.metrics import mean_squared_error"
   ]
  },
  {
   "cell_type": "code",
   "execution_count": 20,
   "id": "47d17e2f-ec50-460b-ad97-50752b8f9e3c",
   "metadata": {
    "tags": []
   },
   "outputs": [],
   "source": [
    "# Load the dataset\n",
    "Dataset = pd.read_csv(r'rr.csv')"
   ]
  },
  {
   "cell_type": "markdown",
   "id": "7ed744cf-7002-4345-8cf9-da78f366ac7d",
   "metadata": {},
   "source": [
    "### From the above, I have taken Dataset as the variable and imported the data from the csv file through pd.read_csv command "
   ]
  },
  {
   "cell_type": "code",
   "execution_count": 21,
   "id": "623b347e-63a1-4cc6-b427-ade3cac50ce2",
   "metadata": {
    "tags": []
   },
   "outputs": [
    {
     "data": {
      "text/html": [
       "<div>\n",
       "<style scoped>\n",
       "    .dataframe tbody tr th:only-of-type {\n",
       "        vertical-align: middle;\n",
       "    }\n",
       "\n",
       "    .dataframe tbody tr th {\n",
       "        vertical-align: top;\n",
       "    }\n",
       "\n",
       "    .dataframe thead th {\n",
       "        text-align: right;\n",
       "    }\n",
       "</style>\n",
       "<table border=\"1\" class=\"dataframe\">\n",
       "  <thead>\n",
       "    <tr style=\"text-align: right;\">\n",
       "      <th></th>\n",
       "      <th>Unnamed: 0</th>\n",
       "      <th>Month</th>\n",
       "      <th>Price</th>\n",
       "    </tr>\n",
       "  </thead>\n",
       "  <tbody>\n",
       "    <tr>\n",
       "      <th>0</th>\n",
       "      <td>0</td>\n",
       "      <td>1997-01-01</td>\n",
       "      <td>3.45</td>\n",
       "    </tr>\n",
       "    <tr>\n",
       "      <th>1</th>\n",
       "      <td>1</td>\n",
       "      <td>1997-02-01</td>\n",
       "      <td>2.15</td>\n",
       "    </tr>\n",
       "    <tr>\n",
       "      <th>2</th>\n",
       "      <td>2</td>\n",
       "      <td>1997-03-01</td>\n",
       "      <td>1.89</td>\n",
       "    </tr>\n",
       "    <tr>\n",
       "      <th>3</th>\n",
       "      <td>3</td>\n",
       "      <td>1997-04-01</td>\n",
       "      <td>2.03</td>\n",
       "    </tr>\n",
       "    <tr>\n",
       "      <th>4</th>\n",
       "      <td>4</td>\n",
       "      <td>1997-05-01</td>\n",
       "      <td>2.25</td>\n",
       "    </tr>\n",
       "  </tbody>\n",
       "</table>\n",
       "</div>"
      ],
      "text/plain": [
       "   Unnamed: 0       Month  Price\n",
       "0           0  1997-01-01   3.45\n",
       "1           1  1997-02-01   2.15\n",
       "2           2  1997-03-01   1.89\n",
       "3           3  1997-04-01   2.03\n",
       "4           4  1997-05-01   2.25"
      ]
     },
     "execution_count": 21,
     "metadata": {},
     "output_type": "execute_result"
    }
   ],
   "source": [
    "Dataset.head()"
   ]
  },
  {
   "cell_type": "markdown",
   "id": "13120315-e050-4a91-8afe-3a5829156aca",
   "metadata": {},
   "source": [
    "### From the above, I have pulled up the initial rows of the Dataset  "
   ]
  },
  {
   "cell_type": "code",
   "execution_count": 22,
   "id": "c04a6e03-c92a-4975-a2a3-3c4b950c6f0d",
   "metadata": {
    "tags": []
   },
   "outputs": [
    {
     "data": {
      "text/plain": [
       "Index(['Unnamed: 0', 'Month', 'Price'], dtype='object')"
      ]
     },
     "execution_count": 22,
     "metadata": {},
     "output_type": "execute_result"
    }
   ],
   "source": [
    "Dataset.columns"
   ]
  },
  {
   "cell_type": "markdown",
   "id": "d502eadd-0186-4d3f-ab8b-5b7a8c7ddd6f",
   "metadata": {},
   "source": [
    "### From the above, I have looked for column names"
   ]
  },
  {
   "cell_type": "code",
   "execution_count": 23,
   "id": "beddba8c-6f6c-4962-93b7-2daa8396ad3c",
   "metadata": {
    "tags": []
   },
   "outputs": [
    {
     "data": {
      "text/plain": [
       "Unnamed: 0      int64\n",
       "Month          object\n",
       "Price         float64\n",
       "dtype: object"
      ]
     },
     "execution_count": 23,
     "metadata": {},
     "output_type": "execute_result"
    }
   ],
   "source": [
    "Dataset.dtypes"
   ]
  },
  {
   "cell_type": "markdown",
   "id": "369f090b-b504-405b-931f-68555478e00b",
   "metadata": {},
   "source": [
    "### Above, looked for data types of the columns in the data set"
   ]
  },
  {
   "cell_type": "code",
   "execution_count": 24,
   "id": "1224b670-876b-4bc9-b33d-b813cacf5d58",
   "metadata": {
    "tags": []
   },
   "outputs": [],
   "source": [
    "# Data cleaning and preprocessing\n",
    "Dataset = Dataset[['Month', 'Price']]\n",
    "Dataset.dropna(inplace=True)"
   ]
  },
  {
   "cell_type": "markdown",
   "id": "32f39eb2-e721-4386-bb03-45c984baa03b",
   "metadata": {},
   "source": [
    "### Above, I have aimed to implement data cleaning and preprocessing by looking for any missisng values from the table and dropping them accordingly"
   ]
  },
  {
   "cell_type": "markdown",
   "id": "6843b1d3-01e0-4bde-bc27-b8b043ad040b",
   "metadata": {},
   "source": [
    "### Splitting the data"
   ]
  },
  {
   "cell_type": "code",
   "execution_count": 25,
   "id": "cceeebcb-75b1-4d45-8577-2f56ff280e95",
   "metadata": {
    "tags": []
   },
   "outputs": [
    {
     "data": {
      "text/plain": [
       "0      3.45\n",
       "1      2.15\n",
       "2      1.89\n",
       "3      2.03\n",
       "4      2.25\n",
       "       ... \n",
       "279    1.74\n",
       "280    1.75\n",
       "281    1.63\n",
       "282    1.77\n",
       "283    2.30\n",
       "Name: Price, Length: 284, dtype: float64"
      ]
     },
     "execution_count": 25,
     "metadata": {},
     "output_type": "execute_result"
    }
   ],
   "source": [
    "# Split the data into X and y\n",
    "X = Dataset[['Month']]\n",
    "X\n",
    "y = Dataset['Price']\n",
    "y"
   ]
  },
  {
   "cell_type": "markdown",
   "id": "69571f0e-6d69-41d5-86e0-e07cd28ec785",
   "metadata": {},
   "source": [
    "### Changing the data type of the date column in order to perform train and test the data"
   ]
  },
  {
   "cell_type": "code",
   "execution_count": 26,
   "id": "f0fa339f-0ec3-4d4b-9d60-2522d02548cb",
   "metadata": {
    "tags": []
   },
   "outputs": [],
   "source": [
    "Dataset['date_column'] = pd.to_datetime(Dataset['Month'])"
   ]
  },
  {
   "cell_type": "code",
   "execution_count": 29,
   "id": "d11ce531-40ae-44e3-84dd-249f13458ca6",
   "metadata": {
    "tags": []
   },
   "outputs": [],
   "source": [
    "Dataset.to_csv('rr.csv')"
   ]
  }
 ],
 "metadata": {
  "kernelspec": {
   "display_name": "Python 3 (ipykernel)",
   "language": "python",
   "name": "python3"
  },
  "language_info": {
   "codemirror_mode": {
    "name": "ipython",
    "version": 3
   },
   "file_extension": ".py",
   "mimetype": "text/x-python",
   "name": "python",
   "nbconvert_exporter": "python",
   "pygments_lexer": "ipython3",
   "version": "3.11.4"
  }
 },
 "nbformat": 4,
 "nbformat_minor": 5
}
